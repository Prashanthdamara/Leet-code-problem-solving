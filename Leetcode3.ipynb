{
 "cells": [
  {
   "cell_type": "markdown",
   "id": "1cd07d83",
   "metadata": {},
   "source": [
    "### Question 1"
   ]
  },
  {
   "cell_type": "markdown",
   "id": "39458367",
   "metadata": {},
   "source": [
    "Given two integer arrays startTime and endTime and given an integer queryTime.\n",
    "\n",
    "The ith student started doing their homework at the time startTime[i] and finished it at time endTime[i].\n",
    "\n",
    "Return the number of students doing their homework at time queryTime. More formally, return the number of students where queryTime lays in the interval [startTime[i], endTime[i]] inclusive.\n",
    "\n",
    "Input: startTime = [1,2,3], endTime = [3,2,7], queryTime = 4\n",
    "\n",
    "Output: 1\n",
    "\n",
    "Explanation: We have 3 students where:\n",
    "\n",
    "- The first student started doing homework at time 1 and finished at time 3 and wasn't doing anything at time 4.\n",
    "- The second student started doing homework at time 2 and finished at time 2 and also wasn't doing anything at time 4.\n",
    "- The third student started doing homework at time 3 and finished at time 7 and was the only student doing homework at time 4."
   ]
  },
  {
   "cell_type": "code",
   "execution_count": 3,
   "id": "c1409942",
   "metadata": {},
   "outputs": [
    {
     "data": {
      "text/plain": [
       "1"
      ]
     },
     "execution_count": 3,
     "metadata": {},
     "output_type": "execute_result"
    }
   ],
   "source": [
    "startTime = [1,2,3]\n",
    "endTime = [3,2,7]\n",
    "queryTime = 4\n",
    "counter = 0\n",
    "for i,j in zip(startTime,endTime):\n",
    "    if i <= queryTime and queryTime <= j:\n",
    "        counter = counter+1\n",
    "counter"
   ]
  },
  {
   "cell_type": "markdown",
   "id": "29f99a61",
   "metadata": {},
   "source": [
    "### Question 2 "
   ]
  },
  {
   "cell_type": "markdown",
   "id": "1ad4df67",
   "metadata": {},
   "source": [
    "Given an integer num, return the number of steps to reduce it to zero.\n",
    "\n",
    "In one step, if the current number is even, you have to divide it by 2, otherwise, you have to subtract 1 from it.\n",
    "\n",
    "Input: num = 14\n",
    "Output: 6\n",
    "    \n",
    "Explanation: \n",
    "    \n",
    "- Step 1) 14 is even; divide by 2 and obtain 7. \n",
    "- Step 2) 7 is odd; subtract 1 and obtain 6.\n",
    "- Step 3) 6 is even; divide by 2 and obtain 3. \n",
    "- Step 4) 3 is odd; subtract 1 and obtain 2. \n",
    "- Step 5) 2 is even; divide by 2 and obtain 1. \n",
    "- Step 6) 1 is odd; subtract 1 and obtain 0."
   ]
  },
  {
   "cell_type": "code",
   "execution_count": 17,
   "id": "75920488",
   "metadata": {},
   "outputs": [
    {
     "data": {
      "text/plain": [
       "12"
      ]
     },
     "execution_count": 17,
     "metadata": {},
     "output_type": "execute_result"
    }
   ],
   "source": [
    "num = 123\n",
    "counter = 0\n",
    "while num > 0:\n",
    "    if num%2 == 0:\n",
    "        num = num//2\n",
    "    else:\n",
    "        num = num -1\n",
    "    counter = counter+1\n",
    "counter"
   ]
  },
  {
   "cell_type": "code",
   "execution_count": 14,
   "id": "4364dd1c",
   "metadata": {},
   "outputs": [
    {
     "data": {
      "text/plain": [
       "0"
      ]
     },
     "execution_count": 14,
     "metadata": {},
     "output_type": "execute_result"
    }
   ],
   "source": [
    "num%2"
   ]
  },
  {
   "cell_type": "code",
   "execution_count": 22,
   "id": "84a3905f",
   "metadata": {},
   "outputs": [
    {
     "data": {
      "text/plain": [
       "'0b11'"
      ]
     },
     "execution_count": 22,
     "metadata": {},
     "output_type": "execute_result"
    }
   ],
   "source": [
    "bin(3)"
   ]
  },
  {
   "cell_type": "code",
   "execution_count": 26,
   "id": "25b24d8e",
   "metadata": {},
   "outputs": [
    {
     "data": {
      "text/plain": [
       "[0, 1, 2, 2, 3, 3]"
      ]
     },
     "execution_count": 26,
     "metadata": {},
     "output_type": "execute_result"
    }
   ],
   "source": [
    "n = 5\n",
    "out = []\n",
    "for i in range(n+1):\n",
    "    bit = bin(i)[2:]\n",
    "    if int(bit) == 0:\n",
    "        out.append(0)\n",
    "    else:\n",
    "        out.append(len(bit))\n",
    "out    "
   ]
  },
  {
   "cell_type": "markdown",
   "id": "41be9447",
   "metadata": {},
   "source": [
    "### Question"
   ]
  },
  {
   "cell_type": "markdown",
   "id": "814e7546",
   "metadata": {},
   "source": [
    "Given the array of integers nums, you will choose two different indices i and j of that array. Return the maximum value of (nums[i]-1)*(nums[j]-1).\n",
    "\n",
    "Input: nums = [3,4,5,2]\n",
    "Output: 12 \n",
    "    \n",
    "Explanation: If you choose the indices i=1 and j=2 (indexed from 0), you will get the maximum value, that is, (nums[1]-1)*(nums[2]-1) = (4-1)*(5-1) = 3*4 = 12."
   ]
  },
  {
   "cell_type": "code",
   "execution_count": 34,
   "id": "a761d921",
   "metadata": {},
   "outputs": [
    {
     "data": {
      "text/plain": [
       "12"
      ]
     },
     "execution_count": 34,
     "metadata": {},
     "output_type": "execute_result"
    }
   ],
   "source": [
    "nums = [3,4,5,2]\n",
    "dum = 0\n",
    "for i in range(len(nums)):\n",
    "    for j in range(i+1,len(nums)):\n",
    "        prod = (nums[i]-1)*(nums[j]-1)\n",
    "        if prod > dum:\n",
    "            dum = prod\n",
    "dum\n"
   ]
  },
  {
   "cell_type": "code",
   "execution_count": 32,
   "id": "01287859",
   "metadata": {},
   "outputs": [
    {
     "data": {
      "text/plain": [
       "[12]"
      ]
     },
     "execution_count": 32,
     "metadata": {},
     "output_type": "execute_result"
    }
   ],
   "source": []
  },
  {
   "cell_type": "code",
   "execution_count": null,
   "id": "c4fd94f2",
   "metadata": {},
   "outputs": [],
   "source": []
  }
 ],
 "metadata": {
  "kernelspec": {
   "display_name": "Python 3 (ipykernel)",
   "language": "python",
   "name": "python3"
  },
  "language_info": {
   "codemirror_mode": {
    "name": "ipython",
    "version": 3
   },
   "file_extension": ".py",
   "mimetype": "text/x-python",
   "name": "python",
   "nbconvert_exporter": "python",
   "pygments_lexer": "ipython3",
   "version": "3.9.13"
  }
 },
 "nbformat": 4,
 "nbformat_minor": 5
}
