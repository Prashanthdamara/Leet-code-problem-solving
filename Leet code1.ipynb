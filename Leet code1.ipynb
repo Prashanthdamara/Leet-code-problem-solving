{
 "cells": [
  {
   "cell_type": "markdown",
   "id": "5f3d71fa",
   "metadata": {},
   "source": [
    "### Question 1"
   ]
  },
  {
   "cell_type": "markdown",
   "id": "52de7419",
   "metadata": {},
   "source": [
    "Given an array nums. We define a running sum of an array as runningSum[i] = sum(nums[0]…nums[i]).\n",
    "\n",
    "Return the running sum of nums."
   ]
  },
  {
   "cell_type": "markdown",
   "id": "b3c33541",
   "metadata": {},
   "source": [
    "- Input: nums = [1,2,3,4]\n",
    "- Output: [1,3,6,10]\n",
    "- Explanation: Running sum is obtained as follows: [1, 1+2, 1+2+3, 1+2+3+4]."
   ]
  },
  {
   "cell_type": "code",
   "execution_count": 25,
   "id": "0f3677a5",
   "metadata": {},
   "outputs": [
    {
     "data": {
      "text/plain": [
       "[1, 3, 6, 10]"
      ]
     },
     "execution_count": 25,
     "metadata": {},
     "output_type": "execute_result"
    }
   ],
   "source": [
    "inp = [1,2,3,4]\n",
    "out = []\n",
    "out.append(inp[0])\n",
    "for i in range(len(inp)-1):\n",
    "    a = out[i]+inp[i+1]\n",
    "    out.append(a)\n",
    "    \n",
    "out    "
   ]
  },
  {
   "cell_type": "markdown",
   "id": "88596780",
   "metadata": {},
   "source": [
    "### Question 2"
   ]
  },
  {
   "cell_type": "markdown",
   "id": "9b503a6e",
   "metadata": {},
   "source": [
    "Given the array nums consisting of 2n elements in the form [x1,x2,...,xn,y1,y2,...,yn].\n",
    "\n",
    "Return the array in the form [x1,y1,x2,y2,...,xn,yn]."
   ]
  },
  {
   "cell_type": "markdown",
   "id": "f1350d53",
   "metadata": {},
   "source": [
    "- Input: nums = [2,5,1,3,4,7], n = 3\n",
    "- Output: [2,3,5,4,1,7] \n",
    "- Explanation: Since x1=2, x2=5, x3=1, y1=3, y2=4, y3=7 then the answer is [2,3,5,4,1,7]."
   ]
  },
  {
   "cell_type": "code",
   "execution_count": 24,
   "id": "ad181883",
   "metadata": {},
   "outputs": [
    {
     "name": "stdout",
     "output_type": "stream",
     "text": [
      "[2, 3, 5, 4, 1, 7]\n"
     ]
    }
   ],
   "source": [
    "nums = [2,5,1,3,4,7]\n",
    "n = 3\n",
    "lst1 = nums[0:n]\n",
    "lst2 = nums[n:]\n",
    "out = []\n",
    "for i,j in zip(lst1,lst2):\n",
    "    out.append(i)\n",
    "    out.append(j)\n",
    "print(out)"
   ]
  },
  {
   "cell_type": "markdown",
   "id": "e1c26ea8",
   "metadata": {},
   "source": [
    "### Question 3"
   ]
  },
  {
   "cell_type": "markdown",
   "id": "e352029c",
   "metadata": {},
   "source": [
    "There are n kids with candies. You are given an integer array candies, where each candies[i] represents the number of candies the ith kid has, and an integer extraCandies, denoting the number of extra candies that you have.\n",
    "\n",
    "Return a boolean array result of length n, where result[i] is true if, after giving the ith kid all the extraCandies, they will have the greatest number of candies among all the kids, or false otherwise.\n",
    "\n",
    "Note that multiple kids can have the greatest number of candies"
   ]
  },
  {
   "cell_type": "markdown",
   "id": "68f11ee4",
   "metadata": {},
   "source": [
    "- Input: candies = [2,3,5,1,3], extraCandies = 3\n",
    "- Output: [true,true,true,false,true] \n",
    "- Explanation: If you give all extraCandies to:\n",
    "    - Kid 1, they will have 2 + 3 = 5 candies, which is the greatest among the kids.\n",
    "    - Kid 2, they will have 3 + 3 = 6 candies, which is the greatest among the kids.\n",
    "    - Kid 3, they will have 5 + 3 = 8 candies, which is the greatest among the kids.\n",
    "    - Kid 4, they will have 1 + 3 = 4 candies, which is not the greatest among the kids.\n",
    "    - Kid 5, they will have 3 + 3 = 6 candies, which is the greatest among the kids."
   ]
  },
  {
   "cell_type": "code",
   "execution_count": 23,
   "id": "d7cfc812",
   "metadata": {},
   "outputs": [
    {
     "data": {
      "text/plain": [
       "[True, True, True, False, True]"
      ]
     },
     "execution_count": 23,
     "metadata": {},
     "output_type": "execute_result"
    }
   ],
   "source": [
    "candies = [2,3,5,1,3]\n",
    "extraCandies = 3\n",
    "out = []\n",
    "for i in range(len(candies)):\n",
    "    dum_var = candies[i]\n",
    "    check_max = candies[i]+extraCandies\n",
    "    candies[i] = check_max\n",
    "    if max(candies) == check_max:\n",
    "        out.append(True)\n",
    "    else:\n",
    "        out.append(False)\n",
    "    candies[i] = dum_var\n",
    "out"
   ]
  },
  {
   "cell_type": "code",
   "execution_count": null,
   "id": "b1ba554a",
   "metadata": {},
   "outputs": [],
   "source": []
  }
 ],
 "metadata": {
  "kernelspec": {
   "display_name": "Python 3 (ipykernel)",
   "language": "python",
   "name": "python3"
  },
  "language_info": {
   "codemirror_mode": {
    "name": "ipython",
    "version": 3
   },
   "file_extension": ".py",
   "mimetype": "text/x-python",
   "name": "python",
   "nbconvert_exporter": "python",
   "pygments_lexer": "ipython3",
   "version": "3.9.13"
  }
 },
 "nbformat": 4,
 "nbformat_minor": 5
}
