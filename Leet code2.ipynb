{
 "cells": [
  {
   "cell_type": "markdown",
   "id": "4da0b86e",
   "metadata": {},
   "source": [
    "### Question 1"
   ]
  },
  {
   "cell_type": "markdown",
   "id": "dd762d4e",
   "metadata": {},
   "source": [
    "Given a valid (IPv4) IP address, return a defanged version of that IP address.\n",
    "\n",
    "A defanged IP address replaces every period \".\" with \"[.]\".\n",
    "\n",
    "Input: address = \"1.1.1.1\"\n",
    "Output: \"1[.]1[.]1[.]1\""
   ]
  },
  {
   "cell_type": "code",
   "execution_count": 4,
   "id": "36f03a3f",
   "metadata": {},
   "outputs": [
    {
     "name": "stdout",
     "output_type": "stream",
     "text": [
      "255[.]100[.]50[.]0\n"
     ]
    }
   ],
   "source": [
    "Input_address = \"255.100.50.0\"\n",
    "input_spilt = Input_address.split('.')\n",
    "outpu = '[.]'.join(input_spilt)\n",
    "print(outpu)\n",
    "        "
   ]
  },
  {
   "cell_type": "markdown",
   "id": "6ac7427f",
   "metadata": {},
   "source": [
    "### Question 2 "
   ]
  },
  {
   "cell_type": "markdown",
   "id": "b924c950",
   "metadata": {},
   "source": [
    "Given an array nums of integers, return how many of them contain an even number of digits.\n",
    "- Input: nums = [12,345,2,6,7896]\n",
    "- Output: 2\n",
    "\n",
    "Explanation: \n",
    "- 12 contains 2 digits (even number of digits). \n",
    "- 345 contains 3 digits (odd number of digits). \n",
    "- 2 contains 1 digit (odd number of digits). \n",
    "- 6 contains 1 digit (odd number of digits). \n",
    "- 7896 contains 4 digits (even number of digits). \n",
    "Therefore only 12 and 7896 contain an even number of digits."
   ]
  },
  {
   "cell_type": "code",
   "execution_count": 10,
   "id": "325b172c",
   "metadata": {},
   "outputs": [
    {
     "data": {
      "text/plain": [
       "2"
      ]
     },
     "execution_count": 10,
     "metadata": {},
     "output_type": "execute_result"
    }
   ],
   "source": [
    "nums = [12,345,2,6,7896]\n",
    "even_count = 0\n",
    "for n in nums:\n",
    "    counter = 0\n",
    "    while n>0:\n",
    "        remainder = n%10\n",
    "        counter = counter+1\n",
    "        n = n//10\n",
    "    if counter % 2 ==0:\n",
    "        even_count = even_count+1\n",
    "even_count"
   ]
  },
  {
   "cell_type": "markdown",
   "id": "2b7fcf9d",
   "metadata": {},
   "source": [
    "### Question 3 "
   ]
  },
  {
   "cell_type": "markdown",
   "id": "09422900",
   "metadata": {},
   "source": [
    "Given the array nums, for each nums[i] find out how many numbers in the array are smaller than it. That is, for each nums[i] you have to count the number of valid j's such that j != i and nums[j] < nums[i].\n",
    "\n",
    "Return the answer in an array.\n",
    "\n",
    "Input: nums = [8,1,2,2,3]\n",
    "Output: [4,0,1,1,3]\n",
    "    \n",
    "Explanation: \n",
    "    \n",
    "- For nums[0]=8 there exist four smaller numbers than it (1, 2, 2 and 3). \n",
    "- For nums[1]=1 does not exist any smaller number than it.\n",
    "- For nums[2]=2 there exist one smaller number than it (1). \n",
    "- For nums[3]=2 there exist one smaller number than it (1). \n",
    "- For nums[4]=3 there exist three smaller numbers than it (1, 2 and 2)."
   ]
  },
  {
   "cell_type": "code",
   "execution_count": 11,
   "id": "7523f5af",
   "metadata": {},
   "outputs": [
    {
     "data": {
      "text/plain": [
       "[4, 0, 1, 1, 3]"
      ]
     },
     "execution_count": 11,
     "metadata": {},
     "output_type": "execute_result"
    }
   ],
   "source": [
    "nums = [8,1,2,2,3]\n",
    "counters = []\n",
    "for i in range(len(nums)):\n",
    "    dum_var = nums[i]\n",
    "    nums[i] = min(nums)\n",
    "    if dum_var == min(nums):\n",
    "        counters.append(0)\n",
    "    else:\n",
    "        count = 0\n",
    "        for j in range(len(nums)):\n",
    "            if dum_var > nums[j]:\n",
    "                count = count+1\n",
    "        nums[i] = dum_var\n",
    "        counters.append(count-1)\n",
    "            \n",
    "counters         \n",
    "        \n",
    "    "
   ]
  },
  {
   "cell_type": "markdown",
   "id": "048c7de6",
   "metadata": {},
   "source": [
    "### Question 4 "
   ]
  },
  {
   "cell_type": "markdown",
   "id": "d32b2091",
   "metadata": {},
   "source": [
    "Given an integer number n, return the difference between the product of its digits and the sum of its digits.\n",
    "- Input: n = 234\n",
    "- Output: 15 \n",
    "    \n",
    "Explanation:\n",
    "    \n",
    "- Product of digits = 2 * 3 * 4 = 24 \n",
    "- Sum of digits = 2 + 3 + 4 = 9 \n",
    "- Result = 24 - 9 = 15"
   ]
  },
  {
   "cell_type": "code",
   "execution_count": 12,
   "id": "ddaac373",
   "metadata": {},
   "outputs": [
    {
     "name": "stdout",
     "output_type": "stream",
     "text": [
      "15\n"
     ]
    }
   ],
   "source": [
    "n = 234\n",
    "add = 0\n",
    "prod = 1\n",
    "while n>0:\n",
    "    remainder = n%10\n",
    "    prod = prod*remainder\n",
    "    add = add+remainder\n",
    "    n = n//10\n",
    "    \n",
    "\n",
    "print(prod-add)"
   ]
  },
  {
   "cell_type": "code",
   "execution_count": null,
   "id": "28e27a44",
   "metadata": {},
   "outputs": [],
   "source": []
  }
 ],
 "metadata": {
  "kernelspec": {
   "display_name": "Python 3 (ipykernel)",
   "language": "python",
   "name": "python3"
  },
  "language_info": {
   "codemirror_mode": {
    "name": "ipython",
    "version": 3
   },
   "file_extension": ".py",
   "mimetype": "text/x-python",
   "name": "python",
   "nbconvert_exporter": "python",
   "pygments_lexer": "ipython3",
   "version": "3.9.13"
  }
 },
 "nbformat": 4,
 "nbformat_minor": 5
}
